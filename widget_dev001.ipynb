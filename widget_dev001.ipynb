{
 "cells": [
  {
   "cell_type": "code",
   "execution_count": 10,
   "id": "7ae56150-ca8d-47dc-a719-601d6cdec118",
   "metadata": {
    "tags": []
   },
   "outputs": [
    {
     "data": {
      "application/vnd.jupyter.widget-view+json": {
       "model_id": "9c8612a13fb34af8b91f9b96e91137da",
       "version_major": 2,
       "version_minor": 0
      },
      "text/plain": [
       "Text(value='-21.185286, -175.231363', description='Map Center:', placeholder='-21.185286, -175.231363')"
      ]
     },
     "metadata": {},
     "output_type": "display_data"
    },
    {
     "data": {
      "application/vnd.jupyter.widget-view+json": {
       "model_id": "64103491cfd745f495d90a273de2316b",
       "version_major": 2,
       "version_minor": 0
      },
      "text/plain": [
       "BoundedIntText(value=6, description='N Elements:', min=3)"
      ]
     },
     "metadata": {},
     "output_type": "display_data"
    },
    {
     "data": {
      "application/vnd.jupyter.widget-view+json": {
       "model_id": "045f54fdde33484fa44f8fd27c760ae0",
       "version_major": 2,
       "version_minor": 0
      },
      "text/plain": [
       "Button(description='Calculate Uncertainty', style=ButtonStyle())"
      ]
     },
     "metadata": {},
     "output_type": "display_data"
    },
    {
     "data": {
      "application/vnd.jupyter.widget-view+json": {
       "model_id": "f91b846a9d86468a8519fb461031e371",
       "version_major": 2,
       "version_minor": 0
      },
      "text/plain": [
       "Output()"
      ]
     },
     "metadata": {},
     "output_type": "display_data"
    }
   ],
   "source": [
    "from ipywidgets import widgets, Output\n",
    "from ipyleaflet import Map, Marker, basemaps\n",
    "from ipywidgets import Button, HTML\n",
    "from matplotlib.backends.backend_agg import FigureCanvasAgg as FigureCanvas\n",
    "import run_from_markers\n",
    "\n",
    "\n",
    "map_center = (-21.185286, -175.231363)\n",
    "zoom_level = 17\n",
    "\n",
    "get_map_center = widgets.Text(\n",
    "    value='-21.185286, -175.231363',\n",
    "    placeholder='-21.185286, -175.231363',\n",
    "    description='Map Center:',\n",
    "    disabled=False\n",
    ")\n",
    "\n",
    "\n",
    "elements = widgets.BoundedIntText(\n",
    "    value=6,\n",
    "    min=3,\n",
    "    max=100,\n",
    "    step=1,\n",
    "    description='N Elements:',\n",
    "    disabled=False\n",
    ")\n",
    "\n",
    "display(get_map_center)\n",
    "display(elements)\n",
    "\n",
    "\n",
    "# create a button to add a new marker\n",
    "calculate_button = Button(description=\"Calculate Uncertainty\")\n",
    "\n",
    "# create an output widget to display the results\n",
    "output = Output()\n",
    "\n",
    "def calculate_clicked(_):\n",
    "    with output:\n",
    "        output.clear_output()\n",
    "        print(\"Calculating uncertainty.\")\n",
    "        locations = [marker.location for marker in markers.keys()]\n",
    "        print(locations)\n",
    "    # calculate uncertainty and generate image\n",
    "    map_fig, uncert_fig = run_from_markers.main(locations)\n",
    "    map_canv = FigureCanvas(map_fig)\n",
    "    uncert_canv = FigureCanvas(uncert_fig)\n",
    "    # display the image in the next cell\n",
    "    display(map_canv)\n",
    "    display(uncert_canv)\n",
    "\n",
    "calculate_button.on_click(calculate_clicked)\n",
    "display(calculate_button)\n",
    "\n",
    "# display the output widget\n",
    "display(output)"
   ]
  },
  {
   "cell_type": "code",
   "execution_count": 12,
   "id": "4db0044a-c52c-4fc1-ac12-c43aa54d6601",
   "metadata": {
    "tags": []
   },
   "outputs": [
    {
     "name": "stdout",
     "output_type": "stream",
     "text": [
      "[-21.185286, -175.231363]\n",
      "5\n"
     ]
    },
    {
     "data": {
      "application/vnd.jupyter.widget-view+json": {
       "model_id": "9c8612a13fb34af8b91f9b96e91137da",
       "version_major": 2,
       "version_minor": 0
      },
      "text/plain": [
       "Text(value='-21.185286, -175.231363', description='Map Center:', placeholder='-21.185286, -175.231363')"
      ]
     },
     "metadata": {},
     "output_type": "display_data"
    },
    {
     "data": {
      "application/vnd.jupyter.widget-view+json": {
       "model_id": "64103491cfd745f495d90a273de2316b",
       "version_major": 2,
       "version_minor": 0
      },
      "text/plain": [
       "BoundedIntText(value=5, description='N Elements:', min=3)"
      ]
     },
     "metadata": {},
     "output_type": "display_data"
    },
    {
     "data": {
      "application/vnd.jupyter.widget-view+json": {
       "model_id": "6bd16a3e7e7b47e695f4af116091669d",
       "version_major": 2,
       "version_minor": 0
      },
      "text/plain": [
       "Map(center=[-21.185286, -175.231363], controls=(ZoomControl(options=['position', 'zoom_in_text', 'zoom_in_titl…"
      ]
     },
     "metadata": {},
     "output_type": "display_data"
    },
    {
     "data": {
      "application/vnd.jupyter.widget-view+json": {
       "model_id": "045f54fdde33484fa44f8fd27c760ae0",
       "version_major": 2,
       "version_minor": 0
      },
      "text/plain": [
       "Button(description='Calculate Uncertainty', style=ButtonStyle())"
      ]
     },
     "metadata": {},
     "output_type": "display_data"
    }
   ],
   "source": [
    "mc = get_map_center.value\n",
    "lat, lng = [float(x) for x in mc.split(',')]\n",
    "map_center = [lat, lng]\n",
    "n = elements.value\n",
    "\n",
    "print(map_center)\n",
    "print(n)\n",
    "\n",
    "from ipyleaflet import Map, Marker, basemaps\n",
    "from ipywidgets import Button, HTML\n",
    "\n",
    "# create a map centered on a specific location\n",
    "# map_center = (37.7749, -122.4194)\n",
    "# zoom_level = 13\n",
    "m = Map(basemap=basemaps.Esri.WorldImagery, center=map_center, zoom=zoom_level)\n",
    "\n",
    "# define a dictionary to store the markers on the map\n",
    "markers = {}\n",
    "\n",
    "# create a button to add a new marker\n",
    "add_button = Button(description=\"Add a new marker\")\n",
    "\n",
    "# create a button to delete the selected marker\n",
    "delete_button = Button(description=\"Delete selected marker\")\n",
    "\n",
    "# create an HTML widget to display messages to the user\n",
    "message_widget = HTML()\n",
    "\n",
    "# define a function to add a marker to the map\n",
    "def add_marker(location, label):\n",
    "    marker = Marker(location=location, draggable=True, title=label)\n",
    "    markers[marker] = location\n",
    "    m.add_layer(marker)\n",
    "    \n",
    "    # add a click event listener to the marker\n",
    "    def on_marker_click(event):\n",
    "        # unselect all markers\n",
    "        for m in markers:\n",
    "            m.unselect()\n",
    "        \n",
    "        # select the clicked marker\n",
    "        event[\"target\"].select()\n",
    "        \n",
    "    marker.on_click(on_marker_click)\n",
    "\n",
    "# define a function to delete the selected marker\n",
    "def delete_marker(_):\n",
    "    # find the selected marker\n",
    "    selected_marker = None\n",
    "    for marker in markers:\n",
    "        if marker.selected:\n",
    "            selected_marker = marker\n",
    "            break\n",
    "    \n",
    "    # delete the selected marker\n",
    "    if selected_marker is not None:\n",
    "        m.remove_layer(selected_marker)\n",
    "        del markers[selected_marker]\n",
    "        message_widget.value = \"Marker deleted.\"\n",
    "    else:\n",
    "        message_widget.value = \"No marker selected.\"\n",
    "\n",
    "# define a function to add a new marker when the button is clicked\n",
    "def add_button_clicked(_):\n",
    "    m.remove_control(add_button) # remove the button to avoid duplicates\n",
    "    message_widget.value = \"Click on the map to add a new marker.\"\n",
    "    \n",
    "    # add an event listener to the map to add a marker when the user clicks\n",
    "    def on_map_click(event):\n",
    "        label = f\"{len(markers)+1:02d}\"\n",
    "        add_marker(event[\"location\"], label)\n",
    "        message_widget.value = f\"Marker {label} added.\"\n",
    "        \n",
    "    m.on_interaction(on_map_click)\n",
    "\n",
    "# add the buttons and message widget to the map\n",
    "m.add_control(add_button)\n",
    "m.add_control(delete_button)\n",
    "m.add_control(message_widget)\n",
    "\n",
    "# set the button click event listeners\n",
    "add_button.on_click(add_button_clicked)\n",
    "delete_button.on_click(delete_marker)\n",
    "\n",
    "# add 5 markers at the center of the map\n",
    "center = m.center\n",
    "for i in range(n):\n",
    "    label = f\"{i+1:02d}\"\n",
    "    location = (center[0] + i*0.001, center[1] + i*0.001)\n",
    "    add_marker(location, label)\n",
    "\n",
    "# display the map\n",
    "display(get_map_center)\n",
    "display(elements)\n",
    "display(m)\n",
    "display(calculate_button)\n"
   ]
  },
  {
   "cell_type": "code",
   "execution_count": 14,
   "id": "6479d164-a8eb-447e-b2e1-0731bfe950c8",
   "metadata": {
    "tags": []
   },
   "outputs": [
    {
     "data": {
      "application/vnd.jupyter.widget-view+json": {
       "model_id": "e043ba6ed28f455fb3a5d67564da7ff6",
       "version_major": 2,
       "version_minor": 0
      },
      "text/plain": [
       "Button(description='Calculate Uncertainty', style=ButtonStyle())"
      ]
     },
     "metadata": {},
     "output_type": "display_data"
    },
    {
     "data": {
      "application/vnd.jupyter.widget-view+json": {
       "model_id": "5513cad6e8ef48c885de8bb4566b0876",
       "version_major": 2,
       "version_minor": 0
      },
      "text/plain": [
       "Output()"
      ]
     },
     "metadata": {},
     "output_type": "display_data"
    }
   ],
   "source": [
    "from ipywidgets import Output\n",
    "from matplotlib.backends.backend_agg import FigureCanvasAgg as FigureCanvas\n",
    "import run_from_markers\n",
    "\n",
    "# create a button to add a new marker\n",
    "calculate_button = Button(description=\"Calculate Uncertainty\")\n",
    "\n",
    "# create an output widget to display the results\n",
    "output = Output()\n",
    "\n",
    "def calculate_clicked(_):\n",
    "    with output:\n",
    "        output.clear_output()\n",
    "        print(\"Calculating uncertainty.\")\n",
    "        locations = [marker.location for marker in markers.keys()]\n",
    "        print(locations)\n",
    "    # calculate uncertainty and generate image\n",
    "    map_fig, uncert_fig = run_from_markers.main(locations)\n",
    "    map_canv = FigureCanvas(map_fig)\n",
    "    uncert_canv = FigureCanvas(uncert_fig)\n",
    "    # display the image in the next cell\n",
    "    display(map_canv)\n",
    "    display(uncert_canv)\n",
    "\n",
    "calculate_button.on_click(calculate_clicked)\n",
    "display(calculate_button)\n",
    "\n",
    "# display the output widget\n",
    "display(output)\n"
   ]
  },
  {
   "cell_type": "code",
   "execution_count": null,
   "id": "671b05bb-e4b8-449a-9bfa-20d901814016",
   "metadata": {
    "tags": []
   },
   "outputs": [],
   "source": []
  },
  {
   "cell_type": "code",
   "execution_count": null,
   "id": "79c4018e-9eb0-4a18-82e5-d1b14d127fb7",
   "metadata": {},
   "outputs": [],
   "source": []
  },
  {
   "cell_type": "code",
   "execution_count": null,
   "id": "e1602d9e-1c2a-489e-ba86-2ed25e60929c",
   "metadata": {},
   "outputs": [],
   "source": []
  },
  {
   "cell_type": "code",
   "execution_count": null,
   "id": "e6ad45ca-2694-4859-b8b6-cc1a9eb28252",
   "metadata": {},
   "outputs": [],
   "source": []
  }
 ],
 "metadata": {
  "kernelspec": {
   "display_name": "Python 3 (ipykernel)",
   "language": "python",
   "name": "python3"
  },
  "language_info": {
   "codemirror_mode": {
    "name": "ipython",
    "version": 3
   },
   "file_extension": ".py",
   "mimetype": "text/x-python",
   "name": "python",
   "nbconvert_exporter": "python",
   "pygments_lexer": "ipython3",
   "version": "3.10.10"
  }
 },
 "nbformat": 4,
 "nbformat_minor": 5
}
